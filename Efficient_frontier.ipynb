{
  "nbformat": 4,
  "nbformat_minor": 0,
  "metadata": {
    "colab": {
      "name": "Efficient_frontier.ipynb",
      "provenance": [],
      "collapsed_sections": []
    },
    "kernelspec": {
      "name": "python3",
      "display_name": "Python 3"
    }
  },
  "cells": [
    {
      "cell_type": "code",
      "metadata": {
        "id": "iEhSPSxczWm6",
        "colab": {
          "base_uri": "https://localhost:8080/"
        },
        "outputId": "3d52df6c-4439-4480-ebe6-2a708db9fb4c"
      },
      "source": [
        "pip install quandl"
      ],
      "execution_count": 1,
      "outputs": [
        {
          "output_type": "stream",
          "text": [
            "Collecting quandl\n",
            "  Downloading https://files.pythonhosted.org/packages/c2/58/9f0e69d836045e3865d263e9ed49f42b23a58526fdabb30f74c430baee3f/Quandl-3.6.0-py2.py3-none-any.whl\n",
            "Requirement already satisfied: numpy>=1.8 in /usr/local/lib/python3.6/dist-packages (from quandl) (1.19.5)\n",
            "Requirement already satisfied: pandas>=0.14 in /usr/local/lib/python3.6/dist-packages (from quandl) (1.1.5)\n",
            "Requirement already satisfied: more-itertools in /usr/local/lib/python3.6/dist-packages (from quandl) (8.6.0)\n",
            "Requirement already satisfied: requests>=2.7.0 in /usr/local/lib/python3.6/dist-packages (from quandl) (2.23.0)\n",
            "Requirement already satisfied: python-dateutil in /usr/local/lib/python3.6/dist-packages (from quandl) (2.8.1)\n",
            "Collecting inflection>=0.3.1\n",
            "  Downloading https://files.pythonhosted.org/packages/59/91/aa6bde563e0085a02a435aa99b49ef75b0a4b062635e606dab23ce18d720/inflection-0.5.1-py2.py3-none-any.whl\n",
            "Requirement already satisfied: six in /usr/local/lib/python3.6/dist-packages (from quandl) (1.15.0)\n",
            "Requirement already satisfied: pytz>=2017.2 in /usr/local/lib/python3.6/dist-packages (from pandas>=0.14->quandl) (2018.9)\n",
            "Requirement already satisfied: certifi>=2017.4.17 in /usr/local/lib/python3.6/dist-packages (from requests>=2.7.0->quandl) (2020.12.5)\n",
            "Requirement already satisfied: urllib3!=1.25.0,!=1.25.1,<1.26,>=1.21.1 in /usr/local/lib/python3.6/dist-packages (from requests>=2.7.0->quandl) (1.24.3)\n",
            "Requirement already satisfied: idna<3,>=2.5 in /usr/local/lib/python3.6/dist-packages (from requests>=2.7.0->quandl) (2.10)\n",
            "Requirement already satisfied: chardet<4,>=3.0.2 in /usr/local/lib/python3.6/dist-packages (from requests>=2.7.0->quandl) (3.0.4)\n",
            "Installing collected packages: inflection, quandl\n",
            "Successfully installed inflection-0.5.1 quandl-3.6.0\n"
          ],
          "name": "stdout"
        }
      ]
    },
    {
      "cell_type": "code",
      "metadata": {
        "id": "EE8bUv6_zbMA"
      },
      "source": [
        "import numpy as np\n",
        "import pandas as pd\n",
        "import matplotlib.pyplot as pyplot\n",
        "import quandl"
      ],
      "execution_count": null,
      "outputs": []
    },
    {
      "cell_type": "code",
      "metadata": {
        "id": "69eKxflRz0QE"
      },
      "source": [
        "quandl.ApiConfig.api_key = 'e2_nufGGoKaFahocoy9B'\n",
        "data = quandl.get_table('WIKI/PRICES', ticker = ['FB', 'AAPL', 'AMZN', 'MSFT', 'GOOGL'], \n",
        "                       qopts = { 'columns': ['ticker', 'date', 'adj_close'] },\n",
        "                        date = { 'gte': '2012-6-1', 'lte': '2018-1-1' },\n",
        "                       paginate = True)"
      ],
      "execution_count": null,
      "outputs": []
    },
    {
      "cell_type": "code",
      "metadata": {
        "id": "ltljb58Y2QCP",
        "colab": {
          "base_uri": "https://localhost:8080/",
          "height": 233
        },
        "outputId": "2b3dc23b-653e-40d6-a2e2-28b5f2140071"
      },
      "source": [
        "data.head()"
      ],
      "execution_count": null,
      "outputs": [
        {
          "output_type": "execute_result",
          "data": {
            "text/html": [
              "<div>\n",
              "<style scoped>\n",
              "    .dataframe tbody tr th:only-of-type {\n",
              "        vertical-align: middle;\n",
              "    }\n",
              "\n",
              "    .dataframe tbody tr th {\n",
              "        vertical-align: top;\n",
              "    }\n",
              "\n",
              "    .dataframe thead th {\n",
              "        text-align: right;\n",
              "    }\n",
              "</style>\n",
              "<table border=\"1\" class=\"dataframe\">\n",
              "  <thead>\n",
              "    <tr style=\"text-align: right;\">\n",
              "      <th></th>\n",
              "      <th>ticker</th>\n",
              "      <th>date</th>\n",
              "      <th>adj_close</th>\n",
              "    </tr>\n",
              "    <tr>\n",
              "      <th>None</th>\n",
              "      <th></th>\n",
              "      <th></th>\n",
              "      <th></th>\n",
              "    </tr>\n",
              "  </thead>\n",
              "  <tbody>\n",
              "    <tr>\n",
              "      <th>0</th>\n",
              "      <td>MSFT</td>\n",
              "      <td>2017-12-29</td>\n",
              "      <td>85.54</td>\n",
              "    </tr>\n",
              "    <tr>\n",
              "      <th>1</th>\n",
              "      <td>MSFT</td>\n",
              "      <td>2017-12-28</td>\n",
              "      <td>85.72</td>\n",
              "    </tr>\n",
              "    <tr>\n",
              "      <th>2</th>\n",
              "      <td>MSFT</td>\n",
              "      <td>2017-12-27</td>\n",
              "      <td>85.71</td>\n",
              "    </tr>\n",
              "    <tr>\n",
              "      <th>3</th>\n",
              "      <td>MSFT</td>\n",
              "      <td>2017-12-26</td>\n",
              "      <td>85.40</td>\n",
              "    </tr>\n",
              "    <tr>\n",
              "      <th>4</th>\n",
              "      <td>MSFT</td>\n",
              "      <td>2017-12-22</td>\n",
              "      <td>85.51</td>\n",
              "    </tr>\n",
              "  </tbody>\n",
              "</table>\n",
              "</div>"
            ],
            "text/plain": [
              "     ticker       date  adj_close\n",
              "None                             \n",
              "0      MSFT 2017-12-29      85.54\n",
              "1      MSFT 2017-12-28      85.72\n",
              "2      MSFT 2017-12-27      85.71\n",
              "3      MSFT 2017-12-26      85.40\n",
              "4      MSFT 2017-12-22      85.51"
            ]
          },
          "metadata": {
            "tags": []
          },
          "execution_count": 6
        }
      ]
    },
    {
      "cell_type": "code",
      "metadata": {
        "id": "HsqSexXr3KNz",
        "colab": {
          "base_uri": "https://localhost:8080/",
          "height": 233
        },
        "outputId": "e557a588-9d91-47a0-a7f4-ceb4ac733010"
      },
      "source": [
        "data.tail()"
      ],
      "execution_count": null,
      "outputs": [
        {
          "output_type": "execute_result",
          "data": {
            "text/html": [
              "<div>\n",
              "<style scoped>\n",
              "    .dataframe tbody tr th:only-of-type {\n",
              "        vertical-align: middle;\n",
              "    }\n",
              "\n",
              "    .dataframe tbody tr th {\n",
              "        vertical-align: top;\n",
              "    }\n",
              "\n",
              "    .dataframe thead th {\n",
              "        text-align: right;\n",
              "    }\n",
              "</style>\n",
              "<table border=\"1\" class=\"dataframe\">\n",
              "  <thead>\n",
              "    <tr style=\"text-align: right;\">\n",
              "      <th></th>\n",
              "      <th>ticker</th>\n",
              "      <th>date</th>\n",
              "      <th>adj_close</th>\n",
              "    </tr>\n",
              "    <tr>\n",
              "      <th>None</th>\n",
              "      <th></th>\n",
              "      <th></th>\n",
              "      <th></th>\n",
              "    </tr>\n",
              "  </thead>\n",
              "  <tbody>\n",
              "    <tr>\n",
              "      <th>7013</th>\n",
              "      <td>AAPL</td>\n",
              "      <td>2012-06-07</td>\n",
              "      <td>73.473988</td>\n",
              "    </tr>\n",
              "    <tr>\n",
              "      <th>7014</th>\n",
              "      <td>AAPL</td>\n",
              "      <td>2012-06-06</td>\n",
              "      <td>73.440575</td>\n",
              "    </tr>\n",
              "    <tr>\n",
              "      <th>7015</th>\n",
              "      <td>AAPL</td>\n",
              "      <td>2012-06-05</td>\n",
              "      <td>72.331500</td>\n",
              "    </tr>\n",
              "    <tr>\n",
              "      <th>7016</th>\n",
              "      <td>AAPL</td>\n",
              "      <td>2012-06-04</td>\n",
              "      <td>72.519130</td>\n",
              "    </tr>\n",
              "    <tr>\n",
              "      <th>7017</th>\n",
              "      <td>AAPL</td>\n",
              "      <td>2012-06-01</td>\n",
              "      <td>72.095034</td>\n",
              "    </tr>\n",
              "  </tbody>\n",
              "</table>\n",
              "</div>"
            ],
            "text/plain": [
              "     ticker       date  adj_close\n",
              "None                             \n",
              "7013   AAPL 2012-06-07  73.473988\n",
              "7014   AAPL 2012-06-06  73.440575\n",
              "7015   AAPL 2012-06-05  72.331500\n",
              "7016   AAPL 2012-06-04  72.519130\n",
              "7017   AAPL 2012-06-01  72.095034"
            ]
          },
          "metadata": {
            "tags": []
          },
          "execution_count": 7
        }
      ]
    },
    {
      "cell_type": "code",
      "metadata": {
        "id": "tThaWLFL3P8Z"
      },
      "source": [
        "new_data = data.set_index('date')"
      ],
      "execution_count": null,
      "outputs": []
    },
    {
      "cell_type": "code",
      "metadata": {
        "id": "mLrcsCLh4p9a"
      },
      "source": [
        "stocks = new_data.pivot(columns = 'ticker')"
      ],
      "execution_count": null,
      "outputs": []
    },
    {
      "cell_type": "code",
      "metadata": {
        "id": "Zmm6FBU35Ia_"
      },
      "source": [
        "np.random.seed(101)"
      ],
      "execution_count": null,
      "outputs": []
    },
    {
      "cell_type": "code",
      "metadata": {
        "id": "BDKCBV_p4358",
        "colab": {
          "base_uri": "https://localhost:8080/",
          "height": 263
        },
        "outputId": "38e3f85b-d75e-46a4-a449-3e270e2c8586"
      },
      "source": [
        "stocks.head()"
      ],
      "execution_count": null,
      "outputs": [
        {
          "output_type": "execute_result",
          "data": {
            "text/html": [
              "<div>\n",
              "<style scoped>\n",
              "    .dataframe tbody tr th:only-of-type {\n",
              "        vertical-align: middle;\n",
              "    }\n",
              "\n",
              "    .dataframe tbody tr th {\n",
              "        vertical-align: top;\n",
              "    }\n",
              "\n",
              "    .dataframe thead tr th {\n",
              "        text-align: left;\n",
              "    }\n",
              "\n",
              "    .dataframe thead tr:last-of-type th {\n",
              "        text-align: right;\n",
              "    }\n",
              "</style>\n",
              "<table border=\"1\" class=\"dataframe\">\n",
              "  <thead>\n",
              "    <tr>\n",
              "      <th></th>\n",
              "      <th colspan=\"5\" halign=\"left\">adj_close</th>\n",
              "    </tr>\n",
              "    <tr>\n",
              "      <th>ticker</th>\n",
              "      <th>AAPL</th>\n",
              "      <th>AMZN</th>\n",
              "      <th>FB</th>\n",
              "      <th>GOOGL</th>\n",
              "      <th>MSFT</th>\n",
              "    </tr>\n",
              "    <tr>\n",
              "      <th>date</th>\n",
              "      <th></th>\n",
              "      <th></th>\n",
              "      <th></th>\n",
              "      <th></th>\n",
              "      <th></th>\n",
              "    </tr>\n",
              "  </thead>\n",
              "  <tbody>\n",
              "    <tr>\n",
              "      <th>2012-06-01</th>\n",
              "      <td>72.095034</td>\n",
              "      <td>208.22</td>\n",
              "      <td>27.720</td>\n",
              "      <td>286.374009</td>\n",
              "      <td>24.548774</td>\n",
              "    </tr>\n",
              "    <tr>\n",
              "      <th>2012-06-04</th>\n",
              "      <td>72.519130</td>\n",
              "      <td>214.57</td>\n",
              "      <td>26.900</td>\n",
              "      <td>290.190791</td>\n",
              "      <td>24.635062</td>\n",
              "    </tr>\n",
              "    <tr>\n",
              "      <th>2012-06-05</th>\n",
              "      <td>72.331500</td>\n",
              "      <td>213.21</td>\n",
              "      <td>25.869</td>\n",
              "      <td>286.088127</td>\n",
              "      <td>24.596233</td>\n",
              "    </tr>\n",
              "    <tr>\n",
              "      <th>2012-06-06</th>\n",
              "      <td>73.440575</td>\n",
              "      <td>217.64</td>\n",
              "      <td>26.810</td>\n",
              "      <td>291.183857</td>\n",
              "      <td>25.325361</td>\n",
              "    </tr>\n",
              "    <tr>\n",
              "      <th>2012-06-07</th>\n",
              "      <td>73.473988</td>\n",
              "      <td>218.80</td>\n",
              "      <td>26.310</td>\n",
              "      <td>290.010234</td>\n",
              "      <td>25.221816</td>\n",
              "    </tr>\n",
              "  </tbody>\n",
              "</table>\n",
              "</div>"
            ],
            "text/plain": [
              "            adj_close                                       \n",
              "ticker           AAPL    AMZN      FB       GOOGL       MSFT\n",
              "date                                                        \n",
              "2012-06-01  72.095034  208.22  27.720  286.374009  24.548774\n",
              "2012-06-04  72.519130  214.57  26.900  290.190791  24.635062\n",
              "2012-06-05  72.331500  213.21  25.869  286.088127  24.596233\n",
              "2012-06-06  73.440575  217.64  26.810  291.183857  25.325361\n",
              "2012-06-07  73.473988  218.80  26.310  290.010234  25.221816"
            ]
          },
          "metadata": {
            "tags": []
          },
          "execution_count": 11
        }
      ]
    },
    {
      "cell_type": "code",
      "metadata": {
        "id": "hbWv9OQp7EQ_",
        "colab": {
          "base_uri": "https://localhost:8080/",
          "height": 263
        },
        "outputId": "a03318b0-1146-47c3-af93-b8255ae687c8"
      },
      "source": [
        "log_ret = np.log(stocks/stocks.shift(1))\n",
        "log_ret.head()"
      ],
      "execution_count": null,
      "outputs": [
        {
          "output_type": "execute_result",
          "data": {
            "text/html": [
              "<div>\n",
              "<style scoped>\n",
              "    .dataframe tbody tr th:only-of-type {\n",
              "        vertical-align: middle;\n",
              "    }\n",
              "\n",
              "    .dataframe tbody tr th {\n",
              "        vertical-align: top;\n",
              "    }\n",
              "\n",
              "    .dataframe thead tr th {\n",
              "        text-align: left;\n",
              "    }\n",
              "\n",
              "    .dataframe thead tr:last-of-type th {\n",
              "        text-align: right;\n",
              "    }\n",
              "</style>\n",
              "<table border=\"1\" class=\"dataframe\">\n",
              "  <thead>\n",
              "    <tr>\n",
              "      <th></th>\n",
              "      <th colspan=\"5\" halign=\"left\">adj_close</th>\n",
              "    </tr>\n",
              "    <tr>\n",
              "      <th>ticker</th>\n",
              "      <th>AAPL</th>\n",
              "      <th>AMZN</th>\n",
              "      <th>FB</th>\n",
              "      <th>GOOGL</th>\n",
              "      <th>MSFT</th>\n",
              "    </tr>\n",
              "    <tr>\n",
              "      <th>date</th>\n",
              "      <th></th>\n",
              "      <th></th>\n",
              "      <th></th>\n",
              "      <th></th>\n",
              "      <th></th>\n",
              "    </tr>\n",
              "  </thead>\n",
              "  <tbody>\n",
              "    <tr>\n",
              "      <th>2012-06-01</th>\n",
              "      <td>NaN</td>\n",
              "      <td>NaN</td>\n",
              "      <td>NaN</td>\n",
              "      <td>NaN</td>\n",
              "      <td>NaN</td>\n",
              "    </tr>\n",
              "    <tr>\n",
              "      <th>2012-06-04</th>\n",
              "      <td>0.005865</td>\n",
              "      <td>0.030041</td>\n",
              "      <td>-0.030028</td>\n",
              "      <td>0.013240</td>\n",
              "      <td>0.003509</td>\n",
              "    </tr>\n",
              "    <tr>\n",
              "      <th>2012-06-05</th>\n",
              "      <td>-0.002591</td>\n",
              "      <td>-0.006358</td>\n",
              "      <td>-0.039081</td>\n",
              "      <td>-0.014239</td>\n",
              "      <td>-0.001577</td>\n",
              "    </tr>\n",
              "    <tr>\n",
              "      <th>2012-06-06</th>\n",
              "      <td>0.015217</td>\n",
              "      <td>0.020565</td>\n",
              "      <td>0.035730</td>\n",
              "      <td>0.017655</td>\n",
              "      <td>0.029213</td>\n",
              "    </tr>\n",
              "    <tr>\n",
              "      <th>2012-06-07</th>\n",
              "      <td>0.000455</td>\n",
              "      <td>0.005316</td>\n",
              "      <td>-0.018826</td>\n",
              "      <td>-0.004039</td>\n",
              "      <td>-0.004097</td>\n",
              "    </tr>\n",
              "  </tbody>\n",
              "</table>\n",
              "</div>"
            ],
            "text/plain": [
              "           adj_close                                        \n",
              "ticker          AAPL      AMZN        FB     GOOGL      MSFT\n",
              "date                                                        \n",
              "2012-06-01       NaN       NaN       NaN       NaN       NaN\n",
              "2012-06-04  0.005865  0.030041 -0.030028  0.013240  0.003509\n",
              "2012-06-05 -0.002591 -0.006358 -0.039081 -0.014239 -0.001577\n",
              "2012-06-06  0.015217  0.020565  0.035730  0.017655  0.029213\n",
              "2012-06-07  0.000455  0.005316 -0.018826 -0.004039 -0.004097"
            ]
          },
          "metadata": {
            "tags": []
          },
          "execution_count": 12
        }
      ]
    },
    {
      "cell_type": "code",
      "metadata": {
        "id": "l6ERIS1H6LkL"
      },
      "source": [
        "ports = 5000\n",
        "#create array of zeros of 5000 cross 5 for weights of stocks, returns volatility and sharpe ratio\n",
        "all_weights = np.zeros((ports, len(stocks.columns)))\n",
        "ret_arr = np.zeros(ports)\n",
        "vol_arr = np.zeros(ports)\n",
        "sharpe_arr = np.zeros(ports)\n",
        "\n",
        "for x in range(ports):\n",
        "    # Weights\n",
        "    weights = np.array(np.random.random(5))\n",
        "    weights = weights/np.sum(weights)\n",
        "    # Save weights\n",
        "    all_weights[x,:] = weights\n",
        "    # Expected return\n",
        "    ret_arr[x] = np.sum( (log_ret.mean() * weights * 252))\n",
        "    # Expected volatility\n",
        "    vol_arr[x] = np.sqrt(np.dot(weights.T, np.dot(log_ret.cov()*252, weights)))\n",
        "    # Sharpe Ratio\n",
        "    sharpe_arr[x] = ret_arr[x]/vol_arr[x]\n",
        "    \n",
        "\n",
        "\n"
      ],
      "execution_count": null,
      "outputs": []
    },
    {
      "cell_type": "code",
      "metadata": {
        "id": "fhGqEAWP4vEC",
        "colab": {
          "base_uri": "https://localhost:8080/",
          "height": 35
        },
        "outputId": "06e04e8b-2962-4580-c196-377b83b0d880"
      },
      "source": [
        "print('Maximum sharpe ratio: ', sharpe_arr.max())"
      ],
      "execution_count": null,
      "outputs": [
        {
          "output_type": "stream",
          "text": [
            "Maximum sharpe ratio:  1.3882556127952697\n"
          ],
          "name": "stdout"
        }
      ]
    },
    {
      "cell_type": "code",
      "metadata": {
        "id": "ouBZT9qN5dwU",
        "colab": {
          "base_uri": "https://localhost:8080/",
          "height": 35
        },
        "outputId": "034ee113-0f3d-45a6-b050-cfbf61de6a1d"
      },
      "source": [
        "print('Maximum sharpe ratio location in array: ', sharpe_arr.argmax())"
      ],
      "execution_count": null,
      "outputs": [
        {
          "output_type": "stream",
          "text": [
            "Maximum sharpe ratio location in array:  726\n"
          ],
          "name": "stdout"
        }
      ]
    },
    {
      "cell_type": "code",
      "metadata": {
        "id": "HbCxwJy96an_",
        "colab": {
          "base_uri": "https://localhost:8080/",
          "height": 35
        },
        "outputId": "c401af4f-edaf-4f73-feb3-2c99a4670779"
      },
      "source": [
        "#get the weight allocation at this location\n",
        "print(all_weights[726,:])"
      ],
      "execution_count": null,
      "outputs": [
        {
          "output_type": "stream",
          "text": [
            "[0.02103338 0.22647537 0.20671655 0.23615047 0.30962422]\n"
          ],
          "name": "stdout"
        }
      ]
    },
    {
      "cell_type": "code",
      "metadata": {
        "id": "qGx0HxUh6yEe"
      },
      "source": [
        "max_sr_ret = ret_arr[726]\n",
        "max_sr_vol = vol_arr[726]"
      ],
      "execution_count": null,
      "outputs": []
    },
    {
      "cell_type": "code",
      "metadata": {
        "id": "84SxwbGq7ZWU",
        "colab": {
          "base_uri": "https://localhost:8080/",
          "height": 500
        },
        "outputId": "e99d6066-06e6-4e80-9620-125338cbfe0e"
      },
      "source": [
        "#plot the graph of return vs volatility and pointout maximum sharpe ratio\n",
        "pyplot.figure(figsize=(12,8))\n",
        "pyplot.scatter(vol_arr, ret_arr, c=sharpe_arr, cmap='magma')\n",
        "pyplot.colorbar(label='Sharpe Ratio')\n",
        "pyplot.xlabel('Volatility')\n",
        "pyplot.ylabel('Return')\n",
        "pyplot.scatter(max_sr_vol, max_sr_ret,c='black', s=50) # red dot\n",
        "pyplot.show()"
      ],
      "execution_count": null,
      "outputs": [
        {
          "output_type": "display_data",
          "data": {
            "image/png": "[encoded data removed]",
            "text/plain": [
              "<Figure size 864x576 with 2 Axes>"
            ]
          },
          "metadata": {
            "tags": []
          }
        }
      ]
    },
    {
      "cell_type": "code",
      "metadata": {
        "id": "NtpVWsL9BkSn"
      },
      "source": [
        "\n",
        "def get_ret_vol_sr(weights):\n",
        "    weights = np.array(weights)\n",
        "    ret = np.sum(log_ret.mean() * weights) * 252\n",
        "    vol = np.sqrt(np.dot(weights.T, np.dot(log_ret.cov()*252, weights)))\n",
        "    sr = ret/vol\n",
        "    return np.array([ret, vol, sr])\n",
        "\n",
        "\n",
        "def check_sum(weights):\n",
        "    #return 0 if sum of the weights is 1\n",
        "    return np.sum(weights)-1\n"
      ],
      "execution_count": null,
      "outputs": []
    },
    {
      "cell_type": "code",
      "metadata": {
        "id": "9mPzYDRpCInf"
      },
      "source": [
        ""
      ],
      "execution_count": null,
      "outputs": []
    }
  ]
}